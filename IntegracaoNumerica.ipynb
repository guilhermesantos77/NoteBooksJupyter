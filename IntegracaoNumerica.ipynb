{
 "cells": [
  {
   "cell_type": "markdown",
   "metadata": {},
   "source": [
    "# Mecânica (F1006) 2019-20"
   ]
  },
  {
   "cell_type": "code",
   "execution_count": 1,
   "metadata": {},
   "outputs": [],
   "source": [
    "%matplotlib inline                         \n",
    "import numpy as np                         # modulo numérico , essencial para trabalho cientifico; chamado\n",
    "                                           # com nome abreviado np\n",
    "from matplotlib.pylab import *             # modulo de graficos. "
   ]
  },
  {
   "cell_type": "markdown",
   "metadata": {},
   "source": [
    "# Ilustração do cálculo  numérico de integrais"
   ]
  },
  {
   "cell_type": "markdown",
   "metadata": {},
   "source": [
    "Neste *notebook* ilustramos o cálculo numérico de integrais com um exemplo muito simples.\n",
    "Supomos que \n",
    "\n",
    "$$ \n",
    "v(t)=\\sin(t)\n",
    "$$\n",
    "\n",
    "e pretendemos determinar o deslocamento no intervalo $t\\in[0,\\pi]$ \n",
    "\n",
    "$$ \n",
    "x(t)=\\int_0^\\pi \\sin(t)dt\n",
    "$$\n",
    "Mas, para calcular a área sob a curva do $\\sin(t)$, vamoa aproximar esta função por uma função em degraus, constante por intervalos, de modo a que o integral se reduz a uma soma de áreas de rectângulos.\n"
   ]
  },
  {
   "cell_type": "code",
   "execution_count": 2,
   "metadata": {},
   "outputs": [],
   "source": [
    "# função que aproxima f por uma função em degraus\n",
    "def stepaprox(x, f,interval,nodes):\n",
    "    dx=(interval[1]-interval[0])/(nodes-1)\n",
    "    i = ((x-interval[0])// dx)*dx\n",
    "    return f(i)\n",
    "    "
   ]
  },
  {
   "cell_type": "code",
   "execution_count": 9,
   "metadata": {},
   "outputs": [
    {
     "data": {
      "image/png": "[encoded data removed]",
      "text/plain": [
       "<Figure size 432x288 with 1 Axes>"
      ]
     },
     "metadata": {
      "needs_background": "light"
     },
     "output_type": "display_data"
    }
   ],
   "source": [
    "t= np.linspace(0,np.pi,400)\n",
    "y1= np.sin(t)\n",
    "N=5\n",
    "nodes=np.linspace(0,np.pi,N)\n",
    "y2=stepaprox(t,np.sin,[0,np.pi],N)\n",
    "fig,ax1 = subplots(1,1)\n",
    "ax1.plot(t,y1,'b-',lw=3)\n",
    "ax1.fill_between(t,y1,color='y')\n",
    "ax1.plot(t,y2,'r-')\n",
    "ax1.plot(nodes,np.sin(nodes),'ro')\n",
    "#plot(t,sin(t), t,stepaprox(t,np.sin,[0,np.pi],N),'r-', nodes, np.sin(nodes),'ro')\n",
    "ax1.grid('True')"
   ]
  },
  {
   "cell_type": "code",
   "execution_count": 52,
   "metadata": {},
   "outputs": [
    {
     "data": {
      "text/plain": [
       "1.8961188979370398"
      ]
     },
     "execution_count": 52,
     "metadata": {},
     "output_type": "execute_result"
    }
   ],
   "source": [
    "dt=np.pi/4\n",
    "int5=(np.sin(0)+np.sin(dt)+np.sin(2*dt)+np.sin(3*dt))*dt\n",
    "int5"
   ]
  },
  {
   "cell_type": "code",
   "execution_count": 16,
   "metadata": {},
   "outputs": [
    {
     "data": {
      "text/plain": [
       "1.993570343772339"
      ]
     },
     "execution_count": 16,
     "metadata": {},
     "output_type": "execute_result"
    }
   ],
   "source": [
    "n_intervalos=16\n",
    "dt=np.pi/n_intervalos\n",
    "nodos=np.arange(0,np.pi,dt)\n",
    "int8=np.sum(np.sin(nodos))*dt\n",
    "int8\n"
   ]
  },
  {
   "cell_type": "markdown",
   "metadata": {},
   "source": [
    "### Exercício"
   ]
  },
  {
   "cell_type": "markdown",
   "metadata": {},
   "source": [
    "Tenta generalizar este código para calcular o integral\n",
    "\n",
    "$$\n",
    "\\int_0^2 \\exp(-x)dx\n",
    "$$  \n",
    "\n",
    "e compara com o valor exacto\n",
    "$$\n",
    "\\int_0^2 \\exp(-x)dx= -(\\exp(-2)-1)=1-\\frac{1}{e^2}\n",
    "$$\n"
   ]
  },
  {
   "cell_type": "code",
   "execution_count": null,
   "metadata": {},
   "outputs": [],
   "source": []
  }
 ],
 "metadata": {
  "kernelspec": {
   "display_name": "Python 3",
   "language": "python",
   "name": "python3"
  },
  "language_info": {
   "codemirror_mode": {
    "name": "ipython",
    "version": 3
   },
   "file_extension": ".py",
   "mimetype": "text/x-python",
   "name": "python",
   "nbconvert_exporter": "python",
   "pygments_lexer": "ipython3",
   "version": "3.8.3"
  }
 },
 "nbformat": 4,
 "nbformat_minor": 2
}
